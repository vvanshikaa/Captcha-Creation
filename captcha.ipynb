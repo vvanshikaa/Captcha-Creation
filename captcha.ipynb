{
 "cells": [
  {
   "cell_type": "code",
   "execution_count": 8,
   "id": "a2f01ac3-0420-41b9-9ddf-82aaa729c0a6",
   "metadata": {},
   "outputs": [
    {
     "name": "stdout",
     "output_type": "stream",
     "text": [
      "Requirement already satisfied: Pillow in c:\\users\\vansh\\appdata\\local\\programs\\python\\python312\\lib\\site-packages (10.4.0)\n",
      "Note: you may need to restart the kernel to use updated packages.\n"
     ]
    },
    {
     "name": "stderr",
     "output_type": "stream",
     "text": [
      "\n",
      "[notice] A new release of pip is available: 24.2 -> 24.3.1\n",
      "[notice] To update, run: python.exe -m pip install --upgrade pip\n"
     ]
    }
   ],
   "source": [
    "pip install Pillow\n"
   ]
  },
  {
   "cell_type": "code",
   "execution_count": 1,
   "id": "634b7990-2c4f-46b4-aa36-f23f737e6e6f",
   "metadata": {},
   "outputs": [
    {
     "name": "stdout",
     "output_type": "stream",
     "text": [
      "Collecting captcha\n",
      "  Downloading captcha-0.6.0-py3-none-any.whl.metadata (2.1 kB)\n",
      "Requirement already satisfied: Pillow in c:\\users\\vansh\\appdata\\local\\programs\\python\\python312\\lib\\site-packages (from captcha) (10.4.0)\n",
      "Downloading captcha-0.6.0-py3-none-any.whl (102 kB)\n",
      "Installing collected packages: captcha\n",
      "Successfully installed captcha-0.6.0\n",
      "Note: you may need to restart the kernel to use updated packages.\n"
     ]
    },
    {
     "name": "stderr",
     "output_type": "stream",
     "text": [
      "\n",
      "[notice] A new release of pip is available: 24.2 -> 24.3.1\n",
      "[notice] To update, run: python.exe -m pip install --upgrade pip\n"
     ]
    }
   ],
   "source": [
    "pip install captcha\n"
   ]
  },
  {
   "cell_type": "code",
   "execution_count": 12,
   "id": "ed8cf043-2a50-40dc-98ea-268f6f5cc887",
   "metadata": {},
   "outputs": [],
   "source": [
    "from PIL import Image, ImageDraw, ImageFont\n",
    "import random\n",
    "import string"
   ]
  },
  {
   "cell_type": "code",
   "execution_count": 13,
   "id": "35f53090-0369-4361-abcc-7c9b3ad04d5e",
   "metadata": {},
   "outputs": [],
   "source": [
    "# Step 1: Generate Random Text for CAPTCHA\n",
    "def generate_captcha_text(length=6):\n",
    "    characters = string.ascii_letters + string.digits  # A-Z, a-z, 0-9\n",
    "    captcha_text = ''.join(random.choice(characters) for _ in range(length))\n",
    "    return captcha_text"
   ]
  },
  {
   "cell_type": "code",
   "execution_count": 14,
   "id": "9a9688c7-977b-490d-a64b-52a7b4240262",
   "metadata": {},
   "outputs": [],
   "source": [
    "# Step 2: Add Distortion and Noise to the Image\n",
    "def add_distortion_to_text(text):\n",
    "    # Create a blank image with white background\n",
    "    img = Image.new('RGB', (200, 50), color='white')\n",
    "    draw = ImageDraw.Draw(img)\n",
    "    # Set the font and size (a basic sans-serif font)\n",
    "    font = ImageFont.load_default()\n",
    "    # Draw the text in random positions with random colors\n",
    "    for i, char in enumerate(text):\n",
    "        x = random.randint(10, 20) + i * 30\n",
    "        y = random.randint(5, 15)\n",
    "        draw.text((x, y), char, font=font, fill=(0, 0, 0))  # black text\n",
    "    # Add some random noise (dots, lines)\n",
    "    for _ in range(100):  # Adding random dots\n",
    "        x = random.randint(0, 200)\n",
    "        y = random.randint(0, 50)\n",
    "        draw.point((x, y), fill=(0, 0, 0))  # black dots\n",
    "    return img"
   ]
  },
  {
   "cell_type": "code",
   "execution_count": 16,
   "id": "69233c55-cb08-43ed-b4e4-baae887282b0",
   "metadata": {},
   "outputs": [],
   "source": [
    "# Step 3: Generate CAPTCHA Image and Show it\n",
    "captcha_text = generate_captcha_text()  # Generate random CAPTCHA text\n",
    "captcha_image = add_distortion_to_text(captcha_text)  # Create image with noise\n",
    "captcha_image.show()  # Display the image"
   ]
  },
  {
   "cell_type": "code",
   "execution_count": 17,
   "id": "042030af-9166-4bef-8c6d-f4f1fe9a4f8f",
   "metadata": {},
   "outputs": [
    {
     "name": "stdin",
     "output_type": "stream",
     "text": [
      "Please enter the text you see in the image:  RORjXo\n"
     ]
    }
   ],
   "source": [
    "# Step 4: Get User Input and Validate\n",
    "user_input = input(\"Please enter the text you see in the image: \")\n"
   ]
  },
  {
   "cell_type": "code",
   "execution_count": 18,
   "id": "1270f078-724d-4143-8b24-ae4dbb1e63b4",
   "metadata": {},
   "outputs": [
    {
     "name": "stdout",
     "output_type": "stream",
     "text": [
      "CAPTCHA Passed! You are human.\n"
     ]
    }
   ],
   "source": [
    "# Step 5: Check if the User Input Matches the CAPTCHA Text\n",
    "if user_input == captcha_text:\n",
    "    print(\"CAPTCHA Passed! You are human.\")\n",
    "else:\n",
    "    print(\"Incorrect CAPTCHA. Please try again.\")\n"
   ]
  },
  {
   "cell_type": "code",
   "execution_count": null,
   "id": "6e2a8239-aebe-4492-95ba-bea2b940513d",
   "metadata": {},
   "outputs": [],
   "source": []
  },
  {
   "cell_type": "code",
   "execution_count": null,
   "id": "e834ea93-42e2-43f7-a912-1a882ae547db",
   "metadata": {},
   "outputs": [],
   "source": []
  },
  {
   "cell_type": "code",
   "execution_count": null,
   "id": "484e6781-bd16-45de-87c2-12fe4167533e",
   "metadata": {},
   "outputs": [],
   "source": []
  },
  {
   "cell_type": "code",
   "execution_count": null,
   "id": "9bd70395-2ace-4c6d-8a31-66365baa7cef",
   "metadata": {},
   "outputs": [],
   "source": []
  },
  {
   "cell_type": "code",
   "execution_count": null,
   "id": "df9814c2-4b07-4b4a-9679-7156b01aeb0c",
   "metadata": {},
   "outputs": [],
   "source": []
  },
  {
   "cell_type": "code",
   "execution_count": null,
   "id": "f5c7e31d-17c1-4283-91cc-cf48eba472a5",
   "metadata": {},
   "outputs": [],
   "source": []
  }
 ],
 "metadata": {
  "kernelspec": {
   "display_name": "Python 3 (ipykernel)",
   "language": "python",
   "name": "python3"
  },
  "language_info": {
   "codemirror_mode": {
    "name": "ipython",
    "version": 3
   },
   "file_extension": ".py",
   "mimetype": "text/x-python",
   "name": "python",
   "nbconvert_exporter": "python",
   "pygments_lexer": "ipython3",
   "version": "3.12.4"
  }
 },
 "nbformat": 4,
 "nbformat_minor": 5
}
